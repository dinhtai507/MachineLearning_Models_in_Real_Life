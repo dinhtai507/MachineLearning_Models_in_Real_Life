{
 "cells": [
  {
   "cell_type": "code",
   "execution_count": 1,
   "metadata": {},
   "outputs": [
    {
     "ename": "ModuleNotFoundError",
     "evalue": "No module named 'sklearn_crfsuite'",
     "output_type": "error",
     "traceback": [
      "\u001b[1;31m---------------------------------------------------------------------------\u001b[0m",
      "\u001b[1;31mModuleNotFoundError\u001b[0m                       Traceback (most recent call last)",
      "\u001b[1;32md:\\HOC KI 7\\4. Phan tich du lieu voi Python\\NER research\\preprocessing.ipynb Cell 1\u001b[0m line \u001b[0;36m4\n\u001b[0;32m      <a href='vscode-notebook-cell:/d%3A/HOC%20KI%207/4.%20Phan%20tich%20du%20lieu%20voi%20Python/NER%20research/preprocessing.ipynb#W0sZmlsZQ%3D%3D?line=1'>2</a>\u001b[0m \u001b[39mimport\u001b[39;00m \u001b[39mnltk\u001b[39;00m\n\u001b[0;32m      <a href='vscode-notebook-cell:/d%3A/HOC%20KI%207/4.%20Phan%20tich%20du%20lieu%20voi%20Python/NER%20research/preprocessing.ipynb#W0sZmlsZQ%3D%3D?line=2'>3</a>\u001b[0m \u001b[39mfrom\u001b[39;00m \u001b[39msklearn\u001b[39;00m\u001b[39m.\u001b[39;00m\u001b[39mmodel_selection\u001b[39;00m \u001b[39mimport\u001b[39;00m train_test_split\n\u001b[1;32m----> <a href='vscode-notebook-cell:/d%3A/HOC%20KI%207/4.%20Phan%20tich%20du%20lieu%20voi%20Python/NER%20research/preprocessing.ipynb#W0sZmlsZQ%3D%3D?line=3'>4</a>\u001b[0m \u001b[39mfrom\u001b[39;00m \u001b[39msklearn_crfsuite\u001b[39;00m \u001b[39mimport\u001b[39;00m CRF\n\u001b[0;32m      <a href='vscode-notebook-cell:/d%3A/HOC%20KI%207/4.%20Phan%20tich%20du%20lieu%20voi%20Python/NER%20research/preprocessing.ipynb#W0sZmlsZQ%3D%3D?line=4'>5</a>\u001b[0m \u001b[39mfrom\u001b[39;00m \u001b[39msklearn_crfsuite\u001b[39;00m\u001b[39m.\u001b[39;00m\u001b[39mmetrics\u001b[39;00m \u001b[39mimport\u001b[39;00m flat_f1_score\n\u001b[0;32m      <a href='vscode-notebook-cell:/d%3A/HOC%20KI%207/4.%20Phan%20tich%20du%20lieu%20voi%20Python/NER%20research/preprocessing.ipynb#W0sZmlsZQ%3D%3D?line=5'>6</a>\u001b[0m \u001b[39mfrom\u001b[39;00m \u001b[39msklearn_crfsuite\u001b[39;00m\u001b[39m.\u001b[39;00m\u001b[39mmetrics\u001b[39;00m \u001b[39mimport\u001b[39;00m flat_classification_report\n",
      "\u001b[1;31mModuleNotFoundError\u001b[0m: No module named 'sklearn_crfsuite'"
     ]
    }
   ],
   "source": [
    "import pandas as pd\n",
    "import nltk\n",
    "from sklearn.model_selection import train_test_split\n",
    "from sklearn_crfsuite import CRF\n",
    "from sklearn_crfsuite.metrics import flat_f1_score\n",
    "from sklearn_crfsuite.metrics import flat_classification_report\n",
    "# Đoạn văn bản chứa nhiều câu\n",
    "text = \"MANCHESTER, England (AP) — Manchester United goalkeeper Andre Onana has defended teammate Alejandro Garnacho after the winger used gorilla emojis in a social media post about him. The 19-year-old Argentina international posted a photo of players congratulating Onana for stopping a penalty late in United’s 1-0 win over Copenhagen in the Champions League on Tuesday. Garnacho used two gorilla emojis above the photo in a post on X, formerly known as Twitter. It was then deleted. Onana, who is Black, wrote on his Instagram Story that he understood what Garnacho meant. “People cannot choose what I should be offended by,” the Cameroon international wrote on Thursday. “I know exactly what (Garnacho) meant: power & strength. This matter should go no further.” \\n        \\n     The Football Association could still take action, however. Onana also posted a photo of himself and Garnacho hugging, and he added two fist-bumping emojis. \"\n",
    "\n",
    "# Tạo một DataFrame ban đầu với cột \"Sentence #\" ở vị trí đầu tiên\n",
    "df2 = pd.DataFrame(columns=['Sentence #', 'Word', 'POS', 'Tag'])\n",
    "\n",
    "# Hàm xử lý văn bản\n",
    "def preprocessing(text):\n",
    "    # Loại bỏ dư dấu cách thừa và xử lý kí tự xuống dòng \"\\n\"\n",
    "    text = ' '.join(text.split()).replace(\"\\n\", \" \")\n",
    "    return text\n",
    "\n",
    "# Tách đoạn văn thành từng từ\n",
    "def sent_tokenizer(text):\n",
    "    sentences = nltk.sent_tokenize(text)\n",
    "    return sentences\n",
    "\n",
    "# Hàm gắn thẻ POS\n",
    "def pos_tagging(text):  \n",
    "    # Tách văn bản thành các câu\n",
    "    sentences = nltk.sent_tokenize(preprocessing(text))\n",
    "\n",
    "    # Tạo DataFrame ban đầu với cột \"Sentence #\" ở vị trí đầu tiên\n",
    "    df = pd.DataFrame(columns=['Sentence #', 'Word', 'POS'])\n",
    "\n",
    "    # Gắn thẻ POS cho từng câu và thêm vào DataFrame\n",
    "    for i, sentence in enumerate(sentences, start=1):\n",
    "        words = nltk.word_tokenize(sentence)\n",
    "        pos_tags = nltk.pos_tag(words)\n",
    "        new_df = pd.DataFrame(pos_tags, columns=['Word', 'POS'])\n",
    "        new_df['Sentence #'] = i\n",
    "        df = pd.concat([df, new_df], ignore_index=True)\n",
    "\n",
    "    return df"
   ]
  },
  {
   "cell_type": "code",
   "execution_count": null,
   "metadata": {},
   "outputs": [
    {
     "data": {
      "text/html": [
       "<div>\n",
       "<style scoped>\n",
       "    .dataframe tbody tr th:only-of-type {\n",
       "        vertical-align: middle;\n",
       "    }\n",
       "\n",
       "    .dataframe tbody tr th {\n",
       "        vertical-align: top;\n",
       "    }\n",
       "\n",
       "    .dataframe thead th {\n",
       "        text-align: right;\n",
       "    }\n",
       "</style>\n",
       "<table border=\"1\" class=\"dataframe\">\n",
       "  <thead>\n",
       "    <tr style=\"text-align: right;\">\n",
       "      <th></th>\n",
       "      <th>Sentence #</th>\n",
       "      <th>Word</th>\n",
       "      <th>POS</th>\n",
       "    </tr>\n",
       "  </thead>\n",
       "  <tbody>\n",
       "    <tr>\n",
       "      <th>0</th>\n",
       "      <td>1</td>\n",
       "      <td>MANCHESTER</td>\n",
       "      <td>NNP</td>\n",
       "    </tr>\n",
       "    <tr>\n",
       "      <th>1</th>\n",
       "      <td>1</td>\n",
       "      <td>,</td>\n",
       "      <td>,</td>\n",
       "    </tr>\n",
       "    <tr>\n",
       "      <th>2</th>\n",
       "      <td>1</td>\n",
       "      <td>England</td>\n",
       "      <td>NNP</td>\n",
       "    </tr>\n",
       "    <tr>\n",
       "      <th>3</th>\n",
       "      <td>1</td>\n",
       "      <td>(</td>\n",
       "      <td>(</td>\n",
       "    </tr>\n",
       "    <tr>\n",
       "      <th>4</th>\n",
       "      <td>1</td>\n",
       "      <td>AP</td>\n",
       "      <td>NNP</td>\n",
       "    </tr>\n",
       "    <tr>\n",
       "      <th>...</th>\n",
       "      <td>...</td>\n",
       "      <td>...</td>\n",
       "      <td>...</td>\n",
       "    </tr>\n",
       "    <tr>\n",
       "      <th>168</th>\n",
       "      <td>9</td>\n",
       "      <td>added</td>\n",
       "      <td>VBD</td>\n",
       "    </tr>\n",
       "    <tr>\n",
       "      <th>169</th>\n",
       "      <td>9</td>\n",
       "      <td>two</td>\n",
       "      <td>CD</td>\n",
       "    </tr>\n",
       "    <tr>\n",
       "      <th>170</th>\n",
       "      <td>9</td>\n",
       "      <td>fist-bumping</td>\n",
       "      <td>JJ</td>\n",
       "    </tr>\n",
       "    <tr>\n",
       "      <th>171</th>\n",
       "      <td>9</td>\n",
       "      <td>emojis</td>\n",
       "      <td>NN</td>\n",
       "    </tr>\n",
       "    <tr>\n",
       "      <th>172</th>\n",
       "      <td>9</td>\n",
       "      <td>.</td>\n",
       "      <td>.</td>\n",
       "    </tr>\n",
       "  </tbody>\n",
       "</table>\n",
       "<p>173 rows × 3 columns</p>\n",
       "</div>"
      ],
      "text/plain": [
       "    Sentence #          Word  POS\n",
       "0            1    MANCHESTER  NNP\n",
       "1            1             ,    ,\n",
       "2            1       England  NNP\n",
       "3            1             (    (\n",
       "4            1            AP  NNP\n",
       "..         ...           ...  ...\n",
       "168          9         added  VBD\n",
       "169          9           two   CD\n",
       "170          9  fist-bumping   JJ\n",
       "171          9        emojis   NN\n",
       "172          9             .    .\n",
       "\n",
       "[173 rows x 3 columns]"
      ]
     },
     "execution_count": 2,
     "metadata": {},
     "output_type": "execute_result"
    }
   ],
   "source": [
    "df2 = pos_tagging(text)\n",
    "df2"
   ]
  },
  {
   "cell_type": "code",
   "execution_count": null,
   "metadata": {},
   "outputs": [],
   "source": [
    "crf = CRF(algorithm = 'lbfgs',\n",
    "         c1 = 0.1,\n",
    "         c2 = 0.1,\n",
    "         max_iterations = 100,\n",
    "         all_possible_transitions = True,\n",
    "         keep_tempfiles=None)"
   ]
  },
  {
   "cell_type": "code",
   "execution_count": null,
   "metadata": {},
   "outputs": [
    {
     "ename": "NameError",
     "evalue": "name 'X_test' is not defined",
     "output_type": "error",
     "traceback": [
      "\u001b[1;31m---------------------------------------------------------------------------\u001b[0m",
      "\u001b[1;31mNameError\u001b[0m                                 Traceback (most recent call last)",
      "\u001b[1;32md:\\HOC KI 7\\4. Phan tich du lieu voi Python\\NER research\\preprocessing.ipynb Cell 4\u001b[0m line \u001b[0;36m2\n\u001b[0;32m      <a href='vscode-notebook-cell:/d%3A/HOC%20KI%207/4.%20Phan%20tich%20du%20lieu%20voi%20Python/NER%20research/preprocessing.ipynb#W3sZmlsZQ%3D%3D?line=0'>1</a>\u001b[0m \u001b[39mtry\u001b[39;00m:\n\u001b[1;32m----> <a href='vscode-notebook-cell:/d%3A/HOC%20KI%207/4.%20Phan%20tich%20du%20lieu%20voi%20Python/NER%20research/preprocessing.ipynb#W3sZmlsZQ%3D%3D?line=1'>2</a>\u001b[0m     crf\u001b[39m.\u001b[39mfit(X_test, y_test)\n\u001b[0;32m      <a href='vscode-notebook-cell:/d%3A/HOC%20KI%207/4.%20Phan%20tich%20du%20lieu%20voi%20Python/NER%20research/preprocessing.ipynb#W3sZmlsZQ%3D%3D?line=2'>3</a>\u001b[0m \u001b[39mexcept\u001b[39;00m \u001b[39mAttributeError\u001b[39;00m:\n\u001b[0;32m      <a href='vscode-notebook-cell:/d%3A/HOC%20KI%207/4.%20Phan%20tich%20du%20lieu%20voi%20Python/NER%20research/preprocessing.ipynb#W3sZmlsZQ%3D%3D?line=3'>4</a>\u001b[0m     \u001b[39mpass\u001b[39;00m\n",
      "\u001b[1;31mNameError\u001b[0m: name 'X_test' is not defined"
     ]
    }
   ],
   "source": [
    "# try:\n",
    "#     crf.fit(X_test, y_test)\n",
    "# except AttributeError:\n",
    "#     pass\n",
    "# y_pred = crf.predict(X_test)"
   ]
  }
 ],
 "metadata": {
  "kernelspec": {
   "display_name": "Python 3",
   "language": "python",
   "name": "python3"
  },
  "language_info": {
   "codemirror_mode": {
    "name": "ipython",
    "version": 3
   },
   "file_extension": ".py",
   "mimetype": "text/x-python",
   "name": "python",
   "nbconvert_exporter": "python",
   "pygments_lexer": "ipython3",
   "version": "3.10.9"
  }
 },
 "nbformat": 4,
 "nbformat_minor": 2
}
