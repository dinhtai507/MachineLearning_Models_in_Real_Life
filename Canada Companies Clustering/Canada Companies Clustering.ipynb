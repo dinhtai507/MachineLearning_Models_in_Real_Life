{
 "cells": [
  {
   "cell_type": "code",
   "execution_count": 3,
   "id": "110e176b-751a-4701-a1d9-c5ac70a724ea",
   "metadata": {},
   "outputs": [],
   "source": [
    "import numpy as np\n",
    "import pandas as pd\n",
    "import matplotlib.pyplot as plt\n",
    "from sklearn.metrics import accuracy_score\n",
    "from sklearn.cluster import KMeans "
   ]
  },
  {
   "cell_type": "code",
   "execution_count": 2,
   "id": "e35a2ce2-3743-459d-9fff-08320749404a",
   "metadata": {},
   "outputs": [
    {
     "data": {
      "text/html": [
       "<div>\n",
       "<style scoped>\n",
       "    .dataframe tbody tr th:only-of-type {\n",
       "        vertical-align: middle;\n",
       "    }\n",
       "\n",
       "    .dataframe tbody tr th {\n",
       "        vertical-align: top;\n",
       "    }\n",
       "\n",
       "    .dataframe thead th {\n",
       "        text-align: right;\n",
       "    }\n",
       "</style>\n",
       "<table border=\"1\" class=\"dataframe\">\n",
       "  <thead>\n",
       "    <tr style=\"text-align: right;\">\n",
       "      <th></th>\n",
       "      <th>Global Rank\\t</th>\n",
       "      <th>Company\\t</th>\n",
       "      <th>Sales ($billion)\\t</th>\n",
       "      <th>Profits ($billion)\\t</th>\n",
       "      <th>Assets ($billion)\\t</th>\n",
       "      <th>Market Value ($billion)</th>\n",
       "    </tr>\n",
       "  </thead>\n",
       "  <tbody>\n",
       "    <tr>\n",
       "      <th>0</th>\n",
       "      <td>50</td>\n",
       "      <td>Royal Bank of Canada</td>\n",
       "      <td>38.3</td>\n",
       "      <td>7.7</td>\n",
       "      <td>838.5</td>\n",
       "      <td>87.2</td>\n",
       "    </tr>\n",
       "    <tr>\n",
       "      <th>1</th>\n",
       "      <td>71</td>\n",
       "      <td>TD Bank Group</td>\n",
       "      <td>30.6</td>\n",
       "      <td>6.7</td>\n",
       "      <td>819.4</td>\n",
       "      <td>76.9</td>\n",
       "    </tr>\n",
       "    <tr>\n",
       "      <th>2</th>\n",
       "      <td>84</td>\n",
       "      <td>Bank of Nova Scotia</td>\n",
       "      <td>27.6</td>\n",
       "      <td>6.4</td>\n",
       "      <td>737.2</td>\n",
       "      <td>70.6</td>\n",
       "    </tr>\n",
       "    <tr>\n",
       "      <th>3</th>\n",
       "      <td>131</td>\n",
       "      <td>Bank of Montreal</td>\n",
       "      <td>20.9</td>\n",
       "      <td>4.1</td>\n",
       "      <td>542.9</td>\n",
       "      <td>41.0</td>\n",
       "    </tr>\n",
       "    <tr>\n",
       "      <th>4</th>\n",
       "      <td>142</td>\n",
       "      <td>Suncor Energy</td>\n",
       "      <td>38.8</td>\n",
       "      <td>2.8</td>\n",
       "      <td>76.8</td>\n",
       "      <td>47.3</td>\n",
       "    </tr>\n",
       "  </tbody>\n",
       "</table>\n",
       "</div>"
      ],
      "text/plain": [
       "   Global Rank\\t             Company\\t  Sales ($billion)\\t  \\\n",
       "0             50  Royal Bank of Canada                38.3   \n",
       "1             71         TD Bank Group                30.6   \n",
       "2             84   Bank of Nova Scotia                27.6   \n",
       "3            131      Bank of Montreal                20.9   \n",
       "4            142         Suncor Energy                38.8   \n",
       "\n",
       "   Profits ($billion)\\t  Assets ($billion)\\t  Market Value ($billion)  \n",
       "0                   7.7                838.5                     87.2  \n",
       "1                   6.7                819.4                     76.9  \n",
       "2                   6.4                737.2                     70.6  \n",
       "3                   4.1                542.9                     41.0  \n",
       "4                   2.8                 76.8                     47.3  "
      ]
     },
     "execution_count": 2,
     "metadata": {},
     "output_type": "execute_result"
    }
   ],
   "source": [
    "df = pd.read_csv('Canada_largest_companies.csv')\n",
    "df.head()"
   ]
  },
  {
   "cell_type": "code",
   "execution_count": 45,
   "id": "ed87fcc4-f957-43f9-b738-3b822f697708",
   "metadata": {},
   "outputs": [],
   "source": [
    "X = df.iloc[:,[2,5]].values"
   ]
  },
  {
   "cell_type": "code",
   "execution_count": 48,
   "id": "6971058f-a76a-4181-88e9-3ad0d762f0e4",
   "metadata": {},
   "outputs": [
    {
     "name": "stdout",
     "output_type": "stream",
     "text": [
      "Center is:\n",
      " [[18.568      25.724     ]\n",
      " [33.825      70.5       ]\n",
      " [ 6.38888889  8.23888889]]\n"
     ]
    }
   ],
   "source": [
    "model = KMeans(n_clusters = 3, random_state=0).fit(X)\n",
    "print(\"Center is:\\n\", model.cluster_centers_)\n",
    "pred_label = model.predict(X)"
   ]
  },
  {
   "cell_type": "code",
   "execution_count": 49,
   "id": "97105bbd-6579-412c-bade-05edadd4d885",
   "metadata": {},
   "outputs": [
    {
     "data": {
      "image/png": "[encoded data removed]",
      "text/plain": [
       "<Figure size 432x288 with 1 Axes>"
      ]
     },
     "metadata": {
      "needs_background": "light"
     },
     "output_type": "display_data"
    }
   ],
   "source": [
    "plt.scatter(X[pred_label==0, 0], X[pred_label==0, 1], c = 'orange', label = 'Cluster 1', s = 70)\n",
    "plt.scatter(X[pred_label==1, 0], X[pred_label==1, 1], c = 'blue', label = 'Cluster 2', s = 70)\n",
    "plt.scatter(X[pred_label==2, 0], X[pred_label==2, 1], c = 'green', label = 'Cluster 3', s = 70)\n",
    "plt.scatter(model.cluster_centers_[:,0], model.cluster_centers_[:,1], c = 'purple', label = 'Center', marker = 'D', s = 150)\n",
    "\n",
    "plt.title('Kmeans Clustering')\n",
    "plt.legend()\n",
    "plt.show()"
   ]
  },
  {
   "cell_type": "code",
   "execution_count": null,
   "id": "510e964b-8851-40bb-96b3-68b41ff515b9",
   "metadata": {},
   "outputs": [],
   "source": []
  }
 ],
 "metadata": {
  "kernelspec": {
   "display_name": "Python 3.9.12 ('base')",
   "language": "python",
   "name": "python3"
  },
  "language_info": {
   "codemirror_mode": {
    "name": "ipython",
    "version": 3
   },
   "file_extension": ".py",
   "mimetype": "text/x-python",
   "name": "python",
   "nbconvert_exporter": "python",
   "pygments_lexer": "ipython3",
   "version": "3.9.12"
  },
  "vscode": {
   "interpreter": {
    "hash": "2f155fbeb9494e5ce992090b8427abe3542dae7719d8ea0d05cb0b78608edd18"
   }
  }
 },
 "nbformat": 4,
 "nbformat_minor": 5
}
